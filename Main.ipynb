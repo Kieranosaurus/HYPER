{
 "cells": [
  {
   "cell_type": "code",
   "execution_count": 1,
   "metadata": {
    "ExecuteTime": {
     "end_time": "2020-10-13T09:26:36.222319Z",
     "start_time": "2020-10-13T09:26:32.879221Z"
    }
   },
   "outputs": [],
   "source": [
    "from skimage.metrics import structural_similarity as ssim\n",
    "from sklearn.metrics import mean_squared_error\n",
    "from scipy.stats import pearsonr\n",
    "from chainer import serializers\n",
    "from chainer import Chain\n",
    "import chainer.links as L\n",
    "import tensorflow as tf\n",
    "import tensorflow.compat.v1 as tfc\n",
    "from PIL import Image\n",
    "import numpy as np\n",
    "import cupy\n",
    "import pickle\n",
    "import os\n",
    "\n",
    "from keras_vggface.vggface import VGGFace\n",
    "from tensorflow.keras.preprocessing import image\n",
    "from keras_vggface import utils"
   ]
  },
  {
   "cell_type": "code",
   "execution_count": 2,
   "metadata": {
    "ExecuteTime": {
     "end_time": "2020-10-13T09:26:37.255528Z",
     "start_time": "2020-10-13T09:26:36.223279Z"
    }
   },
   "outputs": [
    {
     "name": "stdout",
     "output_type": "stream",
     "text": [
      "Device mapping:\n",
      "/job:localhost/replica:0/task:0/device:XLA_CPU:0 -> device: XLA_CPU device\n",
      "/job:localhost/replica:0/task:0/device:XLA_GPU:0 -> device: XLA_GPU device\n",
      "\n"
     ]
    }
   ],
   "source": [
    "config = tf.compat.v1.ConfigProto()\n",
    "config.gpu_options.allow_growth = True\n",
    "config.log_device_placement = True\n",
    "sess = tfc.Session(config=config)"
   ]
  },
  {
   "cell_type": "code",
   "execution_count": 3,
   "metadata": {
    "ExecuteTime": {
     "end_time": "2020-10-13T09:26:37.260516Z",
     "start_time": "2020-10-13T09:26:37.256525Z"
    }
   },
   "outputs": [],
   "source": [
    "class ModelLinear(Chain):\n",
    "    def __init__(self, n_in, n_out):\n",
    "        super(ModelLinear, self).__init__()\n",
    "        with self.init_scope():\n",
    "            self.fc1 = L.Linear(n_in, n_out)\n",
    "\n",
    "    def __call__(self, x):\n",
    "        return self.fc1(x)"
   ]
  },
  {
   "cell_type": "code",
   "execution_count": 4,
   "metadata": {
    "ExecuteTime": {
     "end_time": "2020-10-13T09:26:37.269491Z",
     "start_time": "2020-10-13T09:26:37.261512Z"
    }
   },
   "outputs": [],
   "source": [
    "def load_network(dev):\n",
    "    p = \"karras2018iclr-celebahq-1024x1024.pkl\"\n",
    "    sess = tfc.InteractiveSession()\n",
    "    with tf.device('/gpu:%d' % dev):\n",
    "        _, _, Gs = pickle.load(open(p, \"rb\"))\n",
    "        \n",
    "    weights = sess.run(tf.trainable_variables())\n",
    "    with open('pggan_weights', 'wb') as f:\n",
    "        pickle.dump(weights, f)\n",
    "    return Gs\n",
    "\n",
    "\n",
    "def face_from_latent(model, latents, my_path, save_image=True):\n",
    "    dummy_label = np.zeros([1] + model.input_shapes[1][1:])\n",
    "    for i in range(latents.shape[0]):\n",
    "        latent = np.expand_dims(latents[i], 0)\n",
    "        face = model.run(latent, dummy_label)\n",
    "        face = np.clip(np.rint((face + 1.0) / 2.0 * 255.0), 0.0, 255.0).astype(np.uint8)\n",
    "        face = face.transpose((0, 2, 3, 1))\n",
    "\n",
    "        if save_image:\n",
    "            if not os.path.exists(my_path):\n",
    "                os.mkdir(my_path)\n",
    "            save_path = os.path.join(my_path, '%d.png' % i)\n",
    "            Image.fromarray(face[0], 'RGB').save(save_path)\n",
    "        else:\n",
    "            Image.fromarray(face[0], 'RGB').show()\n",
    "\n",
    "\n",
    "def get_features(img):\n",
    "    img = img.resize((224, 224))\n",
    "    x = image.img_to_array(img)\n",
    "    x = np.expand_dims(x, axis=0)\n",
    "    x = utils.preprocess_input(x, version=2)\n",
    "    feats = vgg_features.predict(x)\n",
    "    return feats[0][0][0]"
   ]
  },
  {
   "cell_type": "code",
   "execution_count": 5,
   "metadata": {
    "ExecuteTime": {
     "end_time": "2020-10-13T09:26:38.127248Z",
     "start_time": "2020-10-13T09:26:37.270491Z"
    }
   },
   "outputs": [
    {
     "name": "stderr",
     "output_type": "stream",
     "text": [
      "C:\\Users\\Kieran\\Documents\\HyperDecoding\\tfutil\\__init__.py:202: SyntaxWarning: \"is\" with a literal. Did you mean \"==\"?\n",
      "  if v.shape.ndims is 0:\n",
      "C:\\Users\\Kieran\\Documents\\HyperDecoding\\tfutil\\__init__.py:204: SyntaxWarning: \"is\" with a literal. Did you mean \"==\"?\n",
      "  elif v.shape.ndims is 1:\n"
     ]
    },
    {
     "ename": "AttributeError",
     "evalue": "module 'tensorflow' has no attribute 'get_variable'",
     "output_type": "error",
     "traceback": [
      "\u001b[1;31m---------------------------------------------------------------------------\u001b[0m",
      "\u001b[1;31mAttributeError\u001b[0m                            Traceback (most recent call last)",
      "\u001b[1;32m<ipython-input-5-f9452814df9c>\u001b[0m in \u001b[0;36m<module>\u001b[1;34m\u001b[0m\n\u001b[0;32m      4\u001b[0m     \u001b[0mdev\u001b[0m \u001b[1;33m=\u001b[0m \u001b[1;36m1\u001b[0m\u001b[1;33m\u001b[0m\u001b[1;33m\u001b[0m\u001b[0m\n\u001b[0;32m      5\u001b[0m     \u001b[1;32mwith\u001b[0m \u001b[0mtf\u001b[0m\u001b[1;33m.\u001b[0m\u001b[0mdevice\u001b[0m\u001b[1;33m(\u001b[0m\u001b[1;34m'/gpu:%d'\u001b[0m \u001b[1;33m%\u001b[0m \u001b[0mdev\u001b[0m\u001b[1;33m)\u001b[0m\u001b[1;33m:\u001b[0m\u001b[1;33m\u001b[0m\u001b[1;33m\u001b[0m\u001b[0m\n\u001b[1;32m----> 6\u001b[1;33m         \u001b[0mmodel\u001b[0m \u001b[1;33m=\u001b[0m \u001b[0mload_network\u001b[0m\u001b[1;33m(\u001b[0m\u001b[0mdev\u001b[0m\u001b[1;33m=\u001b[0m\u001b[0mdev\u001b[0m\u001b[1;33m)\u001b[0m\u001b[1;33m\u001b[0m\u001b[1;33m\u001b[0m\u001b[0m\n\u001b[0m\u001b[0;32m      7\u001b[0m \u001b[1;33m\u001b[0m\u001b[0m\n\u001b[0;32m      8\u001b[0m     \u001b[1;31m# data\u001b[0m\u001b[1;33m\u001b[0m\u001b[1;33m\u001b[0m\u001b[1;33m\u001b[0m\u001b[0m\n",
      "\u001b[1;32m<ipython-input-4-84cbe718d66f>\u001b[0m in \u001b[0;36mload_network\u001b[1;34m(dev)\u001b[0m\n\u001b[0;32m      3\u001b[0m     \u001b[0msess\u001b[0m \u001b[1;33m=\u001b[0m \u001b[0mtfc\u001b[0m\u001b[1;33m.\u001b[0m\u001b[0mInteractiveSession\u001b[0m\u001b[1;33m(\u001b[0m\u001b[1;33m)\u001b[0m\u001b[1;33m\u001b[0m\u001b[1;33m\u001b[0m\u001b[0m\n\u001b[0;32m      4\u001b[0m     \u001b[1;32mwith\u001b[0m \u001b[0mtf\u001b[0m\u001b[1;33m.\u001b[0m\u001b[0mdevice\u001b[0m\u001b[1;33m(\u001b[0m\u001b[1;34m'/gpu:%d'\u001b[0m \u001b[1;33m%\u001b[0m \u001b[0mdev\u001b[0m\u001b[1;33m)\u001b[0m\u001b[1;33m:\u001b[0m\u001b[1;33m\u001b[0m\u001b[1;33m\u001b[0m\u001b[0m\n\u001b[1;32m----> 5\u001b[1;33m         \u001b[0m_\u001b[0m\u001b[1;33m,\u001b[0m \u001b[0m_\u001b[0m\u001b[1;33m,\u001b[0m \u001b[0mGs\u001b[0m \u001b[1;33m=\u001b[0m \u001b[0mpickle\u001b[0m\u001b[1;33m.\u001b[0m\u001b[0mload\u001b[0m\u001b[1;33m(\u001b[0m\u001b[0mopen\u001b[0m\u001b[1;33m(\u001b[0m\u001b[0mp\u001b[0m\u001b[1;33m,\u001b[0m \u001b[1;34m\"rb\"\u001b[0m\u001b[1;33m)\u001b[0m\u001b[1;33m)\u001b[0m\u001b[1;33m\u001b[0m\u001b[1;33m\u001b[0m\u001b[0m\n\u001b[0m\u001b[0;32m      6\u001b[0m \u001b[1;33m\u001b[0m\u001b[0m\n\u001b[0;32m      7\u001b[0m     \u001b[0mweights\u001b[0m \u001b[1;33m=\u001b[0m \u001b[0msess\u001b[0m\u001b[1;33m.\u001b[0m\u001b[0mrun\u001b[0m\u001b[1;33m(\u001b[0m\u001b[0mtf\u001b[0m\u001b[1;33m.\u001b[0m\u001b[0mtrainable_variables\u001b[0m\u001b[1;33m(\u001b[0m\u001b[1;33m)\u001b[0m\u001b[1;33m)\u001b[0m\u001b[1;33m\u001b[0m\u001b[1;33m\u001b[0m\u001b[0m\n",
      "\u001b[1;32m~\\Documents\\HyperDecoding\\tfutil\\__init__.py\u001b[0m in \u001b[0;36m__setstate__\u001b[1;34m(self, state)\u001b[0m\n\u001b[0;32m    606\u001b[0m \u001b[1;33m\u001b[0m\u001b[0m\n\u001b[0;32m    607\u001b[0m         \u001b[1;31m# Init graph.\u001b[0m\u001b[1;33m\u001b[0m\u001b[1;33m\u001b[0m\u001b[1;33m\u001b[0m\u001b[0m\n\u001b[1;32m--> 608\u001b[1;33m         \u001b[0mself\u001b[0m\u001b[1;33m.\u001b[0m\u001b[0m_init_graph\u001b[0m\u001b[1;33m(\u001b[0m\u001b[1;33m)\u001b[0m\u001b[1;33m\u001b[0m\u001b[1;33m\u001b[0m\u001b[0m\n\u001b[0m\u001b[0;32m    609\u001b[0m         \u001b[0mself\u001b[0m\u001b[1;33m.\u001b[0m\u001b[0mreset_vars\u001b[0m\u001b[1;33m(\u001b[0m\u001b[1;33m)\u001b[0m\u001b[1;33m\u001b[0m\u001b[1;33m\u001b[0m\u001b[0m\n\u001b[0;32m    610\u001b[0m         \u001b[0mset_vars\u001b[0m\u001b[1;33m(\u001b[0m\u001b[1;33m{\u001b[0m\u001b[0mself\u001b[0m\u001b[1;33m.\u001b[0m\u001b[0mfind_var\u001b[0m\u001b[1;33m(\u001b[0m\u001b[0mname\u001b[0m\u001b[1;33m)\u001b[0m\u001b[1;33m:\u001b[0m \u001b[0mvalue\u001b[0m \u001b[1;32mfor\u001b[0m \u001b[0mname\u001b[0m\u001b[1;33m,\u001b[0m \u001b[0mvalue\u001b[0m \u001b[1;32min\u001b[0m \u001b[0mstate\u001b[0m\u001b[1;33m[\u001b[0m\u001b[1;34m'variables'\u001b[0m\u001b[1;33m]\u001b[0m\u001b[1;33m}\u001b[0m\u001b[1;33m)\u001b[0m\u001b[1;33m\u001b[0m\u001b[1;33m\u001b[0m\u001b[0m\n",
      "\u001b[1;32m~\\Documents\\HyperDecoding\\tfutil\\__init__.py\u001b[0m in \u001b[0;36m_init_graph\u001b[1;34m(self)\u001b[0m\n\u001b[0;32m    510\u001b[0m                 \u001b[1;32mwith\u001b[0m \u001b[0mtf\u001b[0m\u001b[1;33m.\u001b[0m\u001b[0mcontrol_dependencies\u001b[0m\u001b[1;33m(\u001b[0m\u001b[1;32mNone\u001b[0m\u001b[1;33m)\u001b[0m\u001b[1;33m:\u001b[0m  \u001b[1;31m# ignore surrounding control_dependencies\u001b[0m\u001b[1;33m\u001b[0m\u001b[1;33m\u001b[0m\u001b[0m\n\u001b[0;32m    511\u001b[0m                     \u001b[0mself\u001b[0m\u001b[1;33m.\u001b[0m\u001b[0minput_templates\u001b[0m \u001b[1;33m=\u001b[0m \u001b[1;33m[\u001b[0m\u001b[0mtf\u001b[0m\u001b[1;33m.\u001b[0m\u001b[0mplaceholder\u001b[0m\u001b[1;33m(\u001b[0m\u001b[0mtf\u001b[0m\u001b[1;33m.\u001b[0m\u001b[0mfloat32\u001b[0m\u001b[1;33m,\u001b[0m \u001b[0mname\u001b[0m\u001b[1;33m=\u001b[0m\u001b[0mname\u001b[0m\u001b[1;33m)\u001b[0m \u001b[1;32mfor\u001b[0m \u001b[0mname\u001b[0m \u001b[1;32min\u001b[0m \u001b[0mself\u001b[0m\u001b[1;33m.\u001b[0m\u001b[0minput_names\u001b[0m\u001b[1;33m]\u001b[0m\u001b[1;33m\u001b[0m\u001b[1;33m\u001b[0m\u001b[0m\n\u001b[1;32m--> 512\u001b[1;33m                     \u001b[0mout_expr\u001b[0m \u001b[1;33m=\u001b[0m \u001b[0mself\u001b[0m\u001b[1;33m.\u001b[0m\u001b[0m_build_func\u001b[0m\u001b[1;33m(\u001b[0m\u001b[1;33m*\u001b[0m\u001b[0mself\u001b[0m\u001b[1;33m.\u001b[0m\u001b[0minput_templates\u001b[0m\u001b[1;33m,\u001b[0m \u001b[0mis_template_graph\u001b[0m\u001b[1;33m=\u001b[0m\u001b[1;32mTrue\u001b[0m\u001b[1;33m,\u001b[0m \u001b[1;33m**\u001b[0m\u001b[0mself\u001b[0m\u001b[1;33m.\u001b[0m\u001b[0mstatic_kwargs\u001b[0m\u001b[1;33m)\u001b[0m\u001b[1;33m\u001b[0m\u001b[1;33m\u001b[0m\u001b[0m\n\u001b[0m\u001b[0;32m    513\u001b[0m \u001b[1;33m\u001b[0m\u001b[0m\n\u001b[0;32m    514\u001b[0m         \u001b[1;31m# Collect outputs.\u001b[0m\u001b[1;33m\u001b[0m\u001b[1;33m\u001b[0m\u001b[1;33m\u001b[0m\u001b[0m\n",
      "\u001b[1;32m<string>\u001b[0m in \u001b[0;36mG_paper\u001b[1;34m(latents_in, labels_in, num_channels, resolution, label_size, fmap_base, fmap_decay, fmap_max, latent_size, normalize_latents, use_wscale, use_pixelnorm, use_leakyrelu, dtype, fused_scale, structure, is_template_graph, **kwargs)\u001b[0m\n",
      "\u001b[1;31mAttributeError\u001b[0m: module 'tensorflow' has no attribute 'get_variable'"
     ]
    }
   ],
   "source": [
    "if __name__ == '__main__':\n",
    "\n",
    "    np.random.seed(1412)\n",
    "    dev = 1\n",
    "    with tf.device('/gpu:%d' % dev):\n",
    "        model = load_network(dev=dev)\n",
    "\n",
    "    # data\n",
    "    with open('data_sub1_4096.dat', 'rb') as fp:\n",
    "        _, _, X_test, T_test = pickle.load(fp)\n",
    "\n",
    "    # predict latents\n",
    "    with cupy.cuda.Device(dev):\n",
    "        model_linear = ModelLinear(n_in=4096, n_out=512).to_gpu(dev)\n",
    "        serializers.load_npz('l0_s1_5000_final.model', model_linear)\n",
    "        X_test = cupy.array(X_test, dtype=cupy.float32)\n",
    "        T_test = cupy.array(T_test, dtype=cupy.float32)\n",
    "        Y_test = model_linear(X_test).array\n",
    "\n",
    "    # generate stimuli and reconstructions\n",
    "    face_from_latent(model, cupy.asnumpy(T_test), 'stimuli', save_image=True)\n",
    "    face_from_latent(model, cupy.asnumpy(Y_test), 'reconstructions', save_image=True)\n",
    "\n",
    "    # stimuli vs. reconstructions\n",
    "    trials = len(T_test)\n",
    "    metrics = {\"lsim\": np.zeros((trials, )),\n",
    "               \"fsim\": np.zeros((trials, )),\n",
    "               \"ssim\": np.zeros((trials, )),\n",
    "               \"gender\": np.zeros((trials, )),\n",
    "               \"age\": np.zeros((trials, )),\n",
    "               \"eyeglasses\": np.zeros((trials, )),\n",
    "               \"pose\": np.zeros((trials, )),\n",
    "               \"smile\": np.zeros((trials, ))}\n",
    "\n",
    "    test_feats = np.zeros((36, 2048))\n",
    "    pred_feats = np.zeros((36, 2048))\n",
    "    test_scores = np.zeros((5, 36))\n",
    "    pred_scores = np.zeros((5, 36))\n",
    "    vgg_features = VGGFace(include_top=False, model='resnet50', input_shape=(224, 224, 3))\n",
    "\n",
    "    gender = np.load('bounds/pggan_celebahq_gender_boundary.npy')\n",
    "    age = np.load('bounds/pggan_celebahq_age_boundary.npy')\n",
    "    eyeglasses = np.load('bounds/pggan_celebahq_eyeglasses_boundary.npy')\n",
    "    pose = np.load('bounds/pggan_celebahq_pose_boundary.npy')\n",
    "    smile = np.load('bounds/pggan_celebahq_smile_boundary.npy')\n",
    "    boundaries = [gender, age, eyeglasses, pose, smile]\n",
    "\n",
    "    Y_test = cupy.asnumpy(Y_test)\n",
    "    T_test = cupy.asnumpy(T_test)\n",
    "    for trial in range(trials):\n",
    "        stim_ssim = np.array(Image.open(\"stimuli/%i.png\" % trial))\n",
    "        recon_ssim = np.array(Image.open(\"reconstructions/%i.png\" % trial))\n",
    "        stim_fsim = image.load_img(\"stimuli/%i.png\" % trial, target_size=(224, 224))\n",
    "        recon_fsim = image.load_img(\"reconstructions/%i.png\" % trial, target_size=(224, 224))\n",
    "\n",
    "        test_feats[trial] = get_features(stim_fsim)\n",
    "        pred_feats[trial] = get_features(recon_fsim)\n",
    "        metrics['lsim'][trial] = 1. / (1 + mean_squared_error(Y_test[trial], T_test[trial]))\n",
    "        metrics['fsim'][trial] = 1. / (1 + mean_squared_error(test_feats[trial], pred_feats[trial]))\n",
    "        metrics['ssim'][trial] = ssim(stim_ssim, recon_ssim, multichannel=True)\n",
    "\n",
    "        for i, boundary in enumerate(boundaries):\n",
    "            test_scores[i, trial] = T_test[trial].reshape(1, -1).dot(boundary.T)[0][0]\n",
    "            pred_scores[i, trial] = Y_test[trial].reshape(1, -1).dot(boundary.T)[0][0]\n",
    "\n",
    "    # print metrics\n",
    "    print(\"latent similarity: %.4f\" % metrics['lsim'].mean())\n",
    "    print(\"Feature similarity: %.4f\" % metrics['fsim'].mean())\n",
    "    print(\"Structural similarity: %.4f\" % metrics['ssim'].mean())\n",
    "\n",
    "    names = [\"Gender\", \"Age\", \"Eyeglasses\", \"Pose\", \"Smile\"]\n",
    "    for i in range(5):\n",
    "        corr, pval = pearsonr(test_scores[i], pred_scores[i])\n",
    "        print(\"%s Corr. coef.: %.4f\" % (names[i], corr))\n",
    "\n"
   ]
  }
 ],
 "metadata": {
  "kernelspec": {
   "display_name": "Python 3",
   "language": "python",
   "name": "python3"
  },
  "language_info": {
   "codemirror_mode": {
    "name": "ipython",
    "version": 3
   },
   "file_extension": ".py",
   "mimetype": "text/x-python",
   "name": "python",
   "nbconvert_exporter": "python",
   "pygments_lexer": "ipython3",
   "version": "3.8.3"
  },
  "varInspector": {
   "cols": {
    "lenName": 16,
    "lenType": 16,
    "lenVar": 40
   },
   "kernels_config": {
    "python": {
     "delete_cmd_postfix": "",
     "delete_cmd_prefix": "del ",
     "library": "var_list.py",
     "varRefreshCmd": "print(var_dic_list())"
    },
    "r": {
     "delete_cmd_postfix": ") ",
     "delete_cmd_prefix": "rm(",
     "library": "var_list.r",
     "varRefreshCmd": "cat(var_dic_list()) "
    }
   },
   "types_to_exclude": [
    "module",
    "function",
    "builtin_function_or_method",
    "instance",
    "_Feature"
   ],
   "window_display": false
  }
 },
 "nbformat": 4,
 "nbformat_minor": 4
}
