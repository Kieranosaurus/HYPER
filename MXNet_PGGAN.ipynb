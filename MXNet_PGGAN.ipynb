{
  "nbformat": 4,
  "nbformat_minor": 0,
  "metadata": {
    "colab": {
      "name": "MXNet PGGAN.ipynb",
      "provenance": [],
      "collapsed_sections": [],
      "authorship_tag": "ABX9TyN1snuOD1B6ks127kWfxTOz",
      "include_colab_link": true
    },
    "kernelspec": {
      "name": "python3",
      "display_name": "Python 3"
    },
    "accelerator": "GPU"
  },
  "cells": [
    {
      "cell_type": "markdown",
      "metadata": {
        "id": "view-in-github",
        "colab_type": "text"
      },
      "source": [
        "<a href=\"https://colab.research.google.com/github/Kieranosaurus/HYPER/blob/master/MXNet_PGGAN.ipynb\" target=\"_parent\"><img src=\"https://colab.research.google.com/assets/colab-badge.svg\" alt=\"Open In Colab\"/></a>"
      ]
    },
    {
      "cell_type": "code",
      "metadata": {
        "id": "KBwOMY8gwP0_",
        "colab": {
          "base_uri": "https://localhost:8080/"
        },
        "outputId": "96530551-3c88-4c4e-9b60-68ce1b6e0938"
      },
      "source": [
        "!pip install mxnet\n",
        "!pip install mxnet-cu101\n",
        "\n",
        "import mxnet as mx\n",
        "from mxnet import nd, gluon, init, autograd, gpu\n",
        "from mxnet.gluon import nn\n",
        "from mxnet.gluon.data.vision import datasets, transforms\n",
        "from IPython import display\n",
        "import matplotlib.pyplot as plt\n",
        "import time\n",
        "import numpy as np\n",
        "import pickle\n",
        "from PIL import Image\n",
        "import matplotlib.image as mpimg\n",
        "import os"
      ],
      "execution_count": 1,
      "outputs": [
        {
          "output_type": "stream",
          "text": [
            "Requirement already satisfied: mxnet in /usr/local/lib/python3.6/dist-packages (1.7.0.post1)\n",
            "Requirement already satisfied: requests<3,>=2.20.0 in /usr/local/lib/python3.6/dist-packages (from mxnet) (2.23.0)\n",
            "Requirement already satisfied: numpy<2.0.0,>1.16.0 in /usr/local/lib/python3.6/dist-packages (from mxnet) (1.18.5)\n",
            "Requirement already satisfied: graphviz<0.9.0,>=0.8.1 in /usr/local/lib/python3.6/dist-packages (from mxnet) (0.8.4)\n",
            "Requirement already satisfied: idna<3,>=2.5 in /usr/local/lib/python3.6/dist-packages (from requests<3,>=2.20.0->mxnet) (2.10)\n",
            "Requirement already satisfied: certifi>=2017.4.17 in /usr/local/lib/python3.6/dist-packages (from requests<3,>=2.20.0->mxnet) (2020.12.5)\n",
            "Requirement already satisfied: chardet<4,>=3.0.2 in /usr/local/lib/python3.6/dist-packages (from requests<3,>=2.20.0->mxnet) (3.0.4)\n",
            "Requirement already satisfied: urllib3!=1.25.0,!=1.25.1,<1.26,>=1.21.1 in /usr/local/lib/python3.6/dist-packages (from requests<3,>=2.20.0->mxnet) (1.24.3)\n",
            "Requirement already satisfied: mxnet-cu101 in /usr/local/lib/python3.6/dist-packages (1.7.0)\n",
            "Requirement already satisfied: graphviz<0.9.0,>=0.8.1 in /usr/local/lib/python3.6/dist-packages (from mxnet-cu101) (0.8.4)\n",
            "Requirement already satisfied: numpy<2.0.0,>1.16.0 in /usr/local/lib/python3.6/dist-packages (from mxnet-cu101) (1.18.5)\n",
            "Requirement already satisfied: requests<3,>=2.20.0 in /usr/local/lib/python3.6/dist-packages (from mxnet-cu101) (2.23.0)\n",
            "Requirement already satisfied: certifi>=2017.4.17 in /usr/local/lib/python3.6/dist-packages (from requests<3,>=2.20.0->mxnet-cu101) (2020.12.5)\n",
            "Requirement already satisfied: chardet<4,>=3.0.2 in /usr/local/lib/python3.6/dist-packages (from requests<3,>=2.20.0->mxnet-cu101) (3.0.4)\n",
            "Requirement already satisfied: urllib3!=1.25.0,!=1.25.1,<1.26,>=1.21.1 in /usr/local/lib/python3.6/dist-packages (from requests<3,>=2.20.0->mxnet-cu101) (1.24.3)\n",
            "Requirement already satisfied: idna<3,>=2.5 in /usr/local/lib/python3.6/dist-packages (from requests<3,>=2.20.0->mxnet-cu101) (2.10)\n"
          ],
          "name": "stdout"
        }
      ]
    },
    {
      "cell_type": "code",
      "metadata": {
        "colab": {
          "base_uri": "https://localhost:8080/"
        },
        "id": "JpxQBauPzllj",
        "outputId": "2fe76d17-7fbb-47b0-aef8-ab73a79d3fd8"
      },
      "source": [
        "from google.colab import drive\n",
        "drive.mount('/content/drive')\n",
        "\n",
        "!cp '/content/drive/MyDrive/Bachelor Thesis/HYPER/data_sub1_4096.dat' '/content/'\n",
        "!cp '/content/drive/MyDrive/Bachelor Thesis/HYPER/pggan_weights' '/content/'"
      ],
      "execution_count": 2,
      "outputs": [
        {
          "output_type": "stream",
          "text": [
            "Drive already mounted at /content/drive; to attempt to forcibly remount, call drive.mount(\"/content/drive\", force_remount=True).\n"
          ],
          "name": "stdout"
        }
      ]
    },
    {
      "cell_type": "code",
      "metadata": {
        "id": "rYqjv8QI9i6S"
      },
      "source": [
        "# def load_weights(net):\r\n",
        "#     with open('pggan_weights', 'rb') as f:\r\n",
        "#         wb = pickle.load(f)\r\n",
        "\r\n",
        "#     weights = []\r\n",
        "#     biases = []\r\n",
        "#     for i in range(110, 163, 6):\r\n",
        "#         weights.append(wb[i])\r\n",
        "#         biases.append(wb[i+1])\r\n",
        "#         weights.append(wb[i+2])\r\n",
        "#         biases.append(wb[i+3])\r\n",
        "#     weights.append(wb[162])\r\n",
        "#     biases.append(wb[163])\r\n",
        "    \r\n",
        "#     names_biases = []\r\n",
        "#     for i in range(19):\r\n",
        "#         names_biases.append(\"net0_apply_bias\"+str(i)+\"_b\")\r\n",
        "    \r\n",
        "#     names_weights = []\r\n",
        "#     names_weights.append(\"net0_dense0_weight\")\r\n",
        "#     for i in range(18):\r\n",
        "#         names_weights.append(\"net0_conv\"+str(i)+\"_weight\")\r\n",
        "\r\n",
        "#     for i in range(len(weights)):\r\n",
        "#         weights[i] = weights[i].astype('float32') #* scalars[i]\r\n",
        "#         net.collect_params()[names_weights[i]].set_data(nd.transpose(nd.array(weights[i])))\r\n",
        "#         net.collect_params()[names_biases[i]].set_data(nd.array(biases[i]))\r\n",
        "\r\n",
        "#     return net"
      ],
      "execution_count": 3,
      "outputs": []
    },
    {
      "cell_type": "code",
      "metadata": {
        "id": "8VNf_k6-_l1q"
      },
      "source": [
        "def load_weights(net):\n",
        "    with open('pggan_weights', 'rb') as f:\n",
        "        wb = pickle.load(f)\n",
        "    weights = []\n",
        "    biases = []\n",
        "    for i in range(110, 163, 2):\n",
        "        weights.append(wb[i])\n",
        "        biases.append(wb[i+1])\n",
        "\n",
        "    names_biases = []\n",
        "    for i in range(27):\n",
        "        names_biases.append(\"net0_apply_bias\"+str(i)+\"_b\")\n",
        "    \n",
        "    names_weights = []\n",
        "    names_weights.append(\"net0_dense0_weight\")\n",
        "    for i in range(26):\n",
        "        names_weights.append(\"net0_conv\"+str(i)+\"_weight\")\n",
        "\n",
        "    for i in range(len(weights)):\n",
        "        weights[i] = weights[i].astype('float32') # * scalars[i]\n",
        "        net.collect_params()[names_weights[i]].set_data(nd.transpose(nd.array(weights[i])))\n",
        "        net.collect_params()[names_biases[i]].set_data(nd.array(biases[i]))\n",
        "\n",
        "    return net\n",
        "\n",
        "def face_from_latent(net, latents, path):\n",
        "    latent = nd.expand_dims(latents[0], 0)\n",
        "    face = net(latent)\n",
        "    # print(face)\n",
        "    # print(face.shape)\n",
        "    face_t = nd.clip(nd.rint((face + 1.0) / 2.0 * 255.0), 0.0, 255.0).astype('uint8')\n",
        "    face_t = face_t.transpose((0, 3, 2, 1))\n",
        "    # print(face_t)\n",
        "    # print(face_t.shape)\n",
        "\n",
        "    if not os.path.exists(path):\n",
        "        os.mkdir(path)\n",
        "    save_path = os.path.join(path, 'test0.png')\n",
        "    image = face_t.asnumpy()\n",
        "    Image.fromarray(image[0], 'RGB').save(save_path)\n",
        "\n",
        "    img = mpimg.imread(save_path)\n",
        "    plt.axis('off')\n",
        "    plt.imshow(img)\n",
        "    plt.show()\n",
        "\n",
        "    return face\n",
        "    \n",
        "    # for i in range(latents.shape[0]):\n",
        "    #     latent = nd.expand_dims(latents[i], 0)\n",
        "    #     face = net(latent)\n",
        "    #     face = nd.clip(nd.rint((face + 1.0) / 2.0 * 255.0), 0.0, 255.0).astype('uint8')\n",
        "    #     face = face.transpose((0, 2, 3, 1))\n",
        "\n",
        "    #     if not os.path.exists(path):\n",
        "    #         os.mkdir(path)\n",
        "    #     save_path = os.path.join(path, '%d.png' % i)\n",
        "    #     Image.fromarray(face[0], 'RGB').save(save_path)\n",
        "\n",
        "    #     img = mpimg.imread(f\"path/%d.png\" % i)\n",
        "    #     plt.axis('off')\n",
        "    #     plt.imshow(img)\n",
        "    #     plt.show()"
      ],
      "execution_count": 4,
      "outputs": []
    },
    {
      "cell_type": "code",
      "metadata": {
        "id": "pw9UA7LhTXUl"
      },
      "source": [
        "class apply_bias(gluon.HybridBlock):\n",
        "    def __init__(self, shape):\n",
        "        super(apply_bias, self).__init__()\n",
        "        self.shape = shape\n",
        "        with self.name_scope():\n",
        "            self.b = self.params.get(\"b\", init=init.Zero(), shape=shape)\n",
        "\n",
        "    def hybrid_forward(self, F, x, b, *args, **kwargs):\n",
        "        return F.broadcast_add(x, b.reshape([1, x.shape[1], 1, 1]))\n",
        "\n",
        "class Net(gluon.HybridBlock):\n",
        "    def __init__(self, **kwargs):\n",
        "        super(Net, self).__init__(**kwargs)\n",
        "        with self.name_scope():\n",
        "\n",
        "            # self.lod_in = mx.sym.Variable(\"lod\", init='np.float32')\n",
        "\n",
        "            # Leaky ReLU Activation\n",
        "            self.lrelu = nn.LeakyReLU(alpha=0.2)\n",
        "\n",
        "            # Block 1\n",
        "            self.dense = nn.Dense(units=8192, use_bias=False)\n",
        "            self.bias1a = apply_bias((512,))\n",
        "            self.conv1 = nn.Conv2D(channels=512, kernel_size=3, padding=(1,1), layout='NCHW', use_bias=False)\n",
        "            self.bias1b = apply_bias((512,))\n",
        "            # to RGB\n",
        "            self.torgb1 = nn.Conv2D(in_channels=512, channels=3, kernel_size=1, layout='NCHW', use_bias=False)\n",
        "            self.biasrgb1 = apply_bias((3,))\n",
        "\n",
        "            # Block 2\n",
        "            self.conv2a = nn.Conv2D(channels=512, kernel_size=3, padding=(1,1), layout='NCHW', use_bias=False)\n",
        "            self.bias2a = apply_bias((512,))\n",
        "            self.conv2b = nn.Conv2D(channels=512, kernel_size=3, padding=(1,1), layout='NCHW', use_bias=False)\n",
        "            self.bias2b = apply_bias((512,))\n",
        "\n",
        "            self.torgb2 = nn.Conv2D(in_channels=512, channels=3, kernel_size=1, layout='NCHW', use_bias=False)\n",
        "            self.biasrgb2 = apply_bias((3,))\n",
        "\n",
        "            # Block 3\n",
        "            self.conv3a = nn.Conv2D(channels=512, kernel_size=3, padding=(1,1), layout='NCHW', use_bias=False)\n",
        "            self.bias3a = apply_bias((512,))\n",
        "            self.conv3b = nn.Conv2D(channels=512, kernel_size=3, padding=(1,1), layout='NCHW', use_bias=False)\n",
        "            self.bias3b = apply_bias((512,))\n",
        "\n",
        "            self.torgb3 = nn.Conv2D(in_channels=512, channels=3, kernel_size=1, layout='NCHW', use_bias=False)\n",
        "            self.biasrgb3 = apply_bias((3,))\n",
        "\n",
        "            # Block 4\n",
        "            self.conv4a = nn.Conv2D(channels=512, kernel_size=3, padding=(1,1), layout='NCHW', use_bias=False)\n",
        "            self.bias4a = apply_bias((512,))\n",
        "            self.conv4b = nn.Conv2D(channels=512, kernel_size=3, padding=(1,1), layout='NCHW', use_bias=False)\n",
        "            self.bias4b = apply_bias((512,))\n",
        "\n",
        "            self.torgb4 = nn.Conv2D(in_channels=512, channels=3, kernel_size=1, layout='NCHW', use_bias=False)\n",
        "            self.biasrgb4 = apply_bias((3,))\n",
        "\n",
        "            # Block 5\n",
        "            self.conv5a = nn.Conv2D(channels=256, kernel_size=3, padding=(1,1), layout='NCHW', use_bias=False)\n",
        "            self.bias5a = apply_bias((256,))\n",
        "            self.conv5b = nn.Conv2D(in_channels=256, channels=256, kernel_size=3, padding=(1,1), layout='NCHW', use_bias=False)\n",
        "            self.bias5b = apply_bias((256,))\n",
        "\n",
        "            self.torgb5 = nn.Conv2D(in_channels=256, channels=3, kernel_size=1, layout='NCHW', use_bias=False)\n",
        "            self.biasrgb5 = apply_bias((3,))\n",
        "\n",
        "            # Block 6\n",
        "            self.conv6a = nn.Conv2D(channels=128, kernel_size=3, padding=(1,1), layout='NCHW', use_bias=False)\n",
        "            self.bias6a = apply_bias((128,))\n",
        "            self.conv6b = nn.Conv2D(in_channels=128, channels=128, kernel_size=3, padding=(1,1), layout='NCHW', use_bias=False)\n",
        "            self.bias6b = apply_bias((128,))\n",
        "\n",
        "            self.torgb6 = nn.Conv2D(in_channels=128, channels=3, kernel_size=1, layout='NCHW', use_bias=False)\n",
        "            self.biasrgb6 = apply_bias((3,))\n",
        "\n",
        "            # Block 7\n",
        "            self.conv7a = nn.Conv2D(channels=64, kernel_size=3, padding=(1,1), layout='NCHW', use_bias=False)\n",
        "            self.bias7a = apply_bias((64,))\n",
        "            self.conv7b = nn.Conv2D(in_channels=64, channels=64, kernel_size=3, padding=(1,1), layout='NCHW', use_bias=False)\n",
        "            self.bias7b = apply_bias((64,))\n",
        "\n",
        "            self.torgb7 = nn.Conv2D(in_channels=64, channels=3, kernel_size=1, layout='NCHW', use_bias=False)\n",
        "            self.biasrgb7 = apply_bias((3,))\n",
        "\n",
        "            # Block 8\n",
        "            self.conv8a = nn.Conv2D(channels=32, kernel_size=3, padding=(1,1), layout='NCHW', use_bias=False)\n",
        "            self.bias8a = apply_bias((32,))\n",
        "            self.conv8b = nn.Conv2D(in_channels=32, channels=32, kernel_size=3, padding=(1,1), layout='NCHW', use_bias=False)\n",
        "            self.bias8b = apply_bias((32,))\n",
        "\n",
        "            self.torgb8 = nn.Conv2D(in_channels=32, channels=3, kernel_size=1, layout='NCHW', use_bias=False)\n",
        "            self.biasrgb8 = apply_bias((3,))\n",
        "\n",
        "            # Block 9\n",
        "            self.conv9a = nn.Conv2D(channels=16, kernel_size=3, padding=(1,1), layout='NCHW', use_bias=False)\n",
        "            self.bias9a = apply_bias((16,))\n",
        "            self.conv9b = nn.Conv2D(in_channels=16, channels=16, kernel_size=3, padding=(1,1), layout='NCHW', use_bias=False)\n",
        "            self.bias9b = apply_bias((16,))\n",
        "\n",
        "            self.torgb9 = nn.Conv2D(in_channels=16, channels=3, kernel_size=1, layout='NCHW', use_bias=False)\n",
        "            self.biasrgb9 = apply_bias((3,))\n",
        "\n",
        "    def pixel_norm(self, x, epsilon=1e-8):\n",
        "        return x * nd.rsqrt(nd.mean(nd.square(x), axis=1, keepdims=True) + epsilon)\n",
        "\n",
        "    def upscale_2d(self, x, factor=2):\n",
        "        s = x.shape\n",
        "        x = nd.reshape(x, [-1, s[1], s[2], 1, s[3], 1])\n",
        "        x = nd.tile(x, [1, 1, 1, factor, 1, factor])\n",
        "        x = nd.reshape(x, [-1, s[1], s[2] * factor, s[3] * factor])\n",
        "        return x\n",
        "\n",
        "    # def lerp_clip(self, a, b, t): \n",
        "    #     return a + (b - a) * nd.array(mx.sym.clip(t, 0.0, 1.0))\n",
        "\n",
        "    def hybrid_forward(self, F, x):\n",
        "        # Block 1                                        \n",
        "        x = self.dense(self.pixel_norm(x))                              #184\n",
        "        x = x.reshape([-1, 512, 4, 4])                                  #185\n",
        "        x = self.pixel_norm(self.lrelu(self.bias1a(x)))                 #186\n",
        "        x = self.pixel_norm(self.lrelu(self.bias1b(self.conv1(x))))     #188\n",
        "        # to RGB -> output to debug\n",
        "        # imgs = [self.biasrgb1(self.torgb1(x))]                         #208\n",
        "\n",
        "        # Block 2\n",
        "        x = self.upscale_2d(x)                                          #194\n",
        "        x = self.pixel_norm(self.lrelu(self.bias2a(self.conv2a(x))))    #196\n",
        "        x = self.pixel_norm(self.lrelu(self.bias2b(self.conv2b(x))))    #198\n",
        "        # to RGB\n",
        "        # imgs += [self.biasrgb2(self.torgb2(x))]                             #212\n",
        "        # img_out = self.upscale_2d(img_out)                              #213\n",
        "        # img_out = self.lerp_clip(img, img_out, self.lod_in - 7)         #215\n",
        "\n",
        "        # Block 3\n",
        "        x = self.upscale_2d(x)                                          #194\n",
        "        x = self.pixel_norm(self.lrelu(self.bias3a(self.conv3a(x))))    #196\n",
        "        x = self.pixel_norm(self.lrelu(self.bias3b(self.conv3b(x))))    #198\n",
        "        # to RGB\n",
        "        # imgs += [self.biasrgb3(self.torgb3(x))]                             #212\n",
        "        # img_out = self.upscale_2d(img_out)                              #213\n",
        "        # img_out = self.lerp_clip(img, img_out, self.lod_in - 6)         #215\n",
        "\n",
        "        # Block 4\n",
        "        x = self.upscale_2d(x)                                          #194\n",
        "        x = self.pixel_norm(self.lrelu(self.bias4a(self.conv4a(x))))    #196\n",
        "        x = self.pixel_norm(self.lrelu(self.bias4b(self.conv4b(x))))    #198\n",
        "        # to RGB\n",
        "        # imgs += [self.biasrgb4(self.torgb4(x))]                             #212\n",
        "        # img_out = self.upscale_2d(img_out)                              #213\n",
        "        # img_out = self.lerp_clip(img, img_out, self.lod_in - 5)         #215\n",
        "\n",
        "        # Block 5\n",
        "        x = self.upscale_2d(x)                                          #194\n",
        "        x = self.pixel_norm(self.lrelu(self.bias5a(self.conv5a(x))))    #196\n",
        "        x = self.pixel_norm(self.lrelu(self.bias5b(self.conv5b(x))))    #198\n",
        "        # to RGB\n",
        "        # imgs += [self.biasrgb5(self.torgb5(x))]                             #212\n",
        "        # img_out = self.upscale_2d(img_out)                              #213\n",
        "        # img_out = self.lerp_clip(img, img_out, self.lod_in - 4)         #215\n",
        "\n",
        "        # Block 6\n",
        "        x = self.upscale_2d(x)                                          #194\n",
        "        x = self.pixel_norm(self.lrelu(self.bias6a(self.conv6a(x))))    #196\n",
        "        x = self.pixel_norm(self.lrelu(self.bias6b(self.conv6b(x))))    #198\n",
        "        # to RGB\n",
        "        # imgs += [self.biasrgb6(self.torgb6(x))]                             #212\n",
        "        # img_out = self.upscale_2d(img_out)                              #213\n",
        "        # img_out = self.lerp_clip(img, img_out, self.lod_in - 3)         #215\n",
        "\n",
        "        # Block 7\n",
        "        x = self.upscale_2d(x)                                          #194\n",
        "        x = self.pixel_norm(self.lrelu(self.bias7a(self.conv7a(x))))    #196\n",
        "        x = self.pixel_norm(self.lrelu(self.bias7b(self.conv7b(x))))    #198\n",
        "        # to RGB\n",
        "        # imgs += [self.biasrgb7(self.torgb7(x))]                             #212\n",
        "        # img_out = self.upscale_2d(img_out)                              #213\n",
        "        # img_out = self.lerp_clip(img, img_out, self.lod_in - 2)         #215\n",
        "\n",
        "        # Block 8\n",
        "        x = self.upscale_2d(x)                                          #194\n",
        "        x = self.pixel_norm(self.lrelu(self.bias8a(self.conv8a(x))))    #196\n",
        "        x = self.pixel_norm(self.lrelu(self.bias8b(self.conv8b(x))))    #198\n",
        "        # to RGB\n",
        "        # imgs += [self.biasrgb8(self.torgb8(x))]                             #212\n",
        "        # img_out = self.upscale_2d(img_out)                              #213\n",
        "        # img_out = self.lerp_clip(img, img_out, self.lod_in - 1)         #215\n",
        "\n",
        "        # Block 9\n",
        "        x = self.upscale_2d(x)                                          #194\n",
        "        x = self.pixel_norm(self.lrelu(self.bias9a(self.conv9a(x))))    #196\n",
        "        x = self.pixel_norm(self.lrelu(self.bias9b(self.conv9b(x))))    #198\n",
        "        # to RGB\n",
        "        x = self.biasrgb9(self.torgb9(x))                             #212\n",
        "        # img_out = self.upscale_2d(img_out)                              #213\n",
        "        # img_out = self.lerp_clip(img, img_out, self.lod_in - 0)         #215\n",
        "\n",
        "        return x"
      ],
      "execution_count": 5,
      "outputs": []
    },
    {
      "cell_type": "code",
      "metadata": {
        "id": "B1pz3fJnstIg"
      },
      "source": [
        "net = Net()\n",
        "# net.initialize(ctx=gpu(0))\n",
        "net.initialize()\n",
        "# net = load_weights(net)"
      ],
      "execution_count": 6,
      "outputs": []
    },
    {
      "cell_type": "code",
      "metadata": {
        "id": "J0eLU5dMisd7"
      },
      "source": [
        "# Get latents from test data stimuli\n",
        "with open('data_sub1_4096.dat', 'rb') as fp:\n",
        "    _, _, _, T_test = pickle.load(fp) "
      ],
      "execution_count": 7,
      "outputs": []
    },
    {
      "cell_type": "code",
      "metadata": {
        "id": "uU0V1BXgqOvk",
        "colab": {
          "base_uri": "https://localhost:8080/",
          "height": 248
        },
        "outputId": "490b2468-1fde-414d-e279-63bb566be0b5"
      },
      "source": [
        "# latents = nd.array(T_test, ctx=gpu(0))\n",
        "latents = nd.array(T_test)\n",
        "net.forward(nd.expand_dims(latents[0], 0))\n",
        "# print(net.collect_params('.*bias'))\n",
        "net = load_weights(net)\n",
        "face = face_from_latent(net, latents, '/content/mxnet/')"
      ],
      "execution_count": 8,
      "outputs": [
        {
          "output_type": "display_data",
          "data": {
            "image/png": "[encoded data removed]",
            "text/plain": [
              "<Figure size 432x288 with 1 Axes>"
            ]
          },
          "metadata": {
            "tags": [],
            "needs_background": "light"
          }
        }
      ]
    },
    {
      "cell_type": "code",
      "metadata": {
        "colab": {
          "base_uri": "https://localhost:8080/",
          "height": 248
        },
        "id": "O-0L8oUJMRtH",
        "outputId": "31904e5e-2a1c-4f8f-f2ef-cd56e73fe7ac"
      },
      "source": [
        "for i in range(len(face[0])):\r\n",
        "    face[0][i] = (face[0][i] - face[0][i].min()) / (face[0][i].max() - face[0][i].min())\r\n",
        "\r\n",
        "face = nd.clip(nd.rint(face * 255.0), 0.0, 255.0).astype('uint8')\r\n",
        "face = face.transpose((0, 3, 2, 1))\r\n",
        "if not os.path.exists('/content/test/'):\r\n",
        "    os.mkdir('/content/test/')\r\n",
        "save_path = os.path.join('/content/test/', 'test0.png')\r\n",
        "image = face.asnumpy()\r\n",
        "Image.fromarray(image[0], 'RGB').save(save_path)\r\n",
        "\r\n",
        "img = mpimg.imread(save_path)\r\n",
        "plt.axis('off')\r\n",
        "plt.imshow(img)\r\n",
        "plt.show()"
      ],
      "execution_count": 9,
      "outputs": [
        {
          "output_type": "display_data",
          "data": {
            "image/png": "[encoded data removed]",
            "text/plain": [
              "<Figure size 432x288 with 1 Axes>"
            ]
          },
          "metadata": {
            "tags": [],
            "needs_background": "light"
          }
        }
      ]
    },
    {
      "cell_type": "code",
      "metadata": {
        "id": "uthpZFZfAuQC"
      },
      "source": [
        "# %tensorflow_version 1.5\r\n",
        "# import tensorflow as tf"
      ],
      "execution_count": 10,
      "outputs": []
    },
    {
      "cell_type": "code",
      "metadata": {
        "id": "urtsA3LADqyO"
      },
      "source": [
        "# def upscale2d(x, factor=2):\r\n",
        "#     s = x.shape\r\n",
        "#     x = tf.reshape(x, [-1, s[1], s[2], 1, s[3], 1])\r\n",
        "#     x = tf.tile(x, [1, 1, 1, factor, 1, factor])\r\n",
        "#     x = tf.reshape(x, [-1, s[1], s[2] * factor, s[3] * factor])\r\n",
        "#     return x"
      ],
      "execution_count": 11,
      "outputs": []
    },
    {
      "cell_type": "code",
      "metadata": {
        "id": "TqQUHNgFB_U4"
      },
      "source": [
        "# def lerp_clip(a, b, t): \r\n",
        "#     return a + (b - a) * tf.clip_by_value(t, 0.0, 1.0)"
      ],
      "execution_count": 12,
      "outputs": []
    },
    {
      "cell_type": "code",
      "metadata": {
        "id": "dZDFA2sFB5PF"
      },
      "source": [
        "# lod_in = tf.cast(tf.get_variable('lod', initializer=np.float32(0.0), trainable=False), 'float32')\r\n",
        "# lod = 7\r\n",
        "# images_out = imgs[0]\r\n",
        "# for i in range(1, len(imgs)):\r\n",
        "#     img = imgs[i]\r\n",
        "#     images_out = upscale2d(images_out)\r\n",
        "#     images_out = lerp_clip(img.asnumpy(), images_out.asnumpy(), lod_in - lod)\r\n",
        "#     lod -= 1"
      ],
      "execution_count": 13,
      "outputs": []
    },
    {
      "cell_type": "code",
      "metadata": {
        "id": "NUL2EVidwkn_"
      },
      "source": [
        "# plt.imshow(mpimg.imread(f\"mxnet/test0.png\"))\r\n",
        "# plt.axis('off')\r\n",
        "\r\n",
        "# f=plt.figure()\r\n",
        "# f.add_subplot(1,2,1)\r\n",
        "# plt.imshow(mpimg.imread(f\"mxnet/test.png\"))\r\n",
        "# plt.axis('off')\r\n",
        "# f.add_subplot(1,2,2)\r\n",
        "# plt.imshow(mpimg.imread(f\"mxnet/test2.png\"))\r\n",
        "# plt.axis('off')\r\n",
        "# plt.show()"
      ],
      "execution_count": 14,
      "outputs": []
    }
  ]
}