{
  "nbformat": 4,
  "nbformat_minor": 0,
  "metadata": {
    "colab": {
      "name": "MXNet decoder.ipynb",
      "provenance": [],
      "collapsed_sections": [],
      "authorship_tag": "ABX9TyNQeUiQw3xMabqxzvuI8V0p",
      "include_colab_link": true
    },
    "kernelspec": {
      "name": "python3",
      "display_name": "Python 3"
    }
  },
  "cells": [
    {
      "cell_type": "markdown",
      "metadata": {
        "id": "view-in-github",
        "colab_type": "text"
      },
      "source": [
        "<a href=\"https://colab.research.google.com/github/Kieranosaurus/HYPER/blob/master/MXNet_PGGAN.ipynb\" target=\"_parent\"><img src=\"https://colab.research.google.com/assets/colab-badge.svg\" alt=\"Open In Colab\"/></a>"
      ]
    },
    {
      "cell_type": "code",
      "metadata": {
        "id": "KBwOMY8gwP0_",
        "outputId": "0fe2b6fc-9ee9-4413-e68f-267c6eb2137d",
        "colab": {
          "base_uri": "https://localhost:8080/"
        }
      },
      "source": [
        "!pip install mxnet\n",
        "\n",
        "import mxnet as mx\n",
        "from mxnet import nd, gluon, init, autograd\n",
        "from mxnet.gluon import nn\n",
        "from mxnet.gluon.data.vision import datasets, transforms\n",
        "from IPython import display\n",
        "import matplotlib.pyplot as plt\n",
        "import time\n",
        "import numpy as np"
      ],
      "execution_count": 5,
      "outputs": [
        {
          "output_type": "stream",
          "text": [
            "Requirement already satisfied: mxnet in /usr/local/lib/python3.6/dist-packages (1.7.0.post1)\n",
            "Requirement already satisfied: graphviz<0.9.0,>=0.8.1 in /usr/local/lib/python3.6/dist-packages (from mxnet) (0.8.4)\n",
            "Requirement already satisfied: requests<3,>=2.20.0 in /usr/local/lib/python3.6/dist-packages (from mxnet) (2.23.0)\n",
            "Requirement already satisfied: numpy<2.0.0,>1.16.0 in /usr/local/lib/python3.6/dist-packages (from mxnet) (1.18.5)\n",
            "Requirement already satisfied: chardet<4,>=3.0.2 in /usr/local/lib/python3.6/dist-packages (from requests<3,>=2.20.0->mxnet) (3.0.4)\n",
            "Requirement already satisfied: urllib3!=1.25.0,!=1.25.1,<1.26,>=1.21.1 in /usr/local/lib/python3.6/dist-packages (from requests<3,>=2.20.0->mxnet) (1.24.3)\n",
            "Requirement already satisfied: idna<3,>=2.5 in /usr/local/lib/python3.6/dist-packages (from requests<3,>=2.20.0->mxnet) (2.10)\n",
            "Requirement already satisfied: certifi>=2017.4.17 in /usr/local/lib/python3.6/dist-packages (from requests<3,>=2.20.0->mxnet) (2020.6.20)\n"
          ],
          "name": "stdout"
        }
      ]
    },
    {
      "cell_type": "code",
      "metadata": {
        "id": "pw9UA7LhTXUl"
      },
      "source": [
        "class Net(gluon.Block):\n",
        "\n",
        "    def pixel_norm(x, epsilon=1e-8):\n",
        "        return x * nd.rsqrt(nd.mean(nd.square(x), axis=1, keepdims=True) + epsilon)\n",
        "\n",
        "    def apply_bias(x):\n",
        "        b = nd.zeros(shape=[x.shape[1]])\n",
        "        b = nd.cast(b, x.dtype)\n",
        "        if len(x.shape) == 2:\n",
        "            return x + b\n",
        "        else:\n",
        "            return x + nd.reshape(b, [1, -1, 1, 1])\n",
        "\n",
        "    def __init__(self, **kwargs):\n",
        "        super(Net, self).__init__(**kwargs)\n",
        "        with self.name_scope():\n",
        "            self.dense = nn.Dense(units=512, use_bias=False)\n",
        "            self.lrelu = nn.LeakyReLU(alpha=0.2)\n",
        "            self.conv1 = nn.Conv2D(channels=512, kernel_size=3, strides=(1,1), layout='NCHW', use_bias=False)\n",
        "\n",
        "    def forward(self, x):\n",
        "        # Layer 1\n",
        "        x = pixel_norm(x)\n",
        "        x = self.dense(x)\n",
        "        x = nd.reshape(x, [-1, 512, 4, 4])\n",
        "        x = pixel_norm(x)\n",
        "        x = self.lrelu(apply_bias(x))\n",
        "        x = self.lrelu(apply_bias(self.conv1(x)))\n",
        "        # torgb? -> for intermediate output generation\n",
        "\n",
        "        return x"
      ],
      "execution_count": 6,
      "outputs": []
    }
  ]
}