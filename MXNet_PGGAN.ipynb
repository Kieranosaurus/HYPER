{
  "nbformat": 4,
  "nbformat_minor": 0,
  "metadata": {
    "colab": {
      "name": "MXNet PGGAN.ipynb",
      "provenance": [],
      "collapsed_sections": [],
      "authorship_tag": "ABX9TyPNF6xkafaDCTHOLLezMM64",
      "include_colab_link": true
    },
    "kernelspec": {
      "name": "python3",
      "display_name": "Python 3"
    },
    "accelerator": "GPU"
  },
  "cells": [
    {
      "cell_type": "markdown",
      "metadata": {
        "id": "view-in-github",
        "colab_type": "text"
      },
      "source": [
        "<a href=\"https://colab.research.google.com/github/Kieranosaurus/HYPER/blob/master/MXNet_PGGAN.ipynb\" target=\"_parent\"><img src=\"https://colab.research.google.com/assets/colab-badge.svg\" alt=\"Open In Colab\"/></a>"
      ]
    },
    {
      "cell_type": "code",
      "metadata": {
        "id": "KBwOMY8gwP0_",
        "colab": {
          "base_uri": "https://localhost:8080/"
        },
        "outputId": "55f5befb-44b1-41dd-d159-bce0020218d4"
      },
      "source": [
        "!pip install mxnet\n",
        "!pip install mxnet-cu101\n",
        "\n",
        "import mxnet as mx\n",
        "from mxnet import nd, gluon, init, autograd, gpu\n",
        "from mxnet.gluon import nn\n",
        "from mxnet.gluon.data.vision import datasets, transforms\n",
        "from IPython import display\n",
        "import matplotlib.pyplot as plt\n",
        "import time\n",
        "import numpy as np\n",
        "import pickle\n",
        "from PIL import Image\n",
        "import matplotlib.image as mpimg\n",
        "import os\n",
        "from sklearn.linear_model import Ridge"
      ],
      "execution_count": 1,
      "outputs": [
        {
          "output_type": "stream",
          "text": [
            "Requirement already satisfied: mxnet in /usr/local/lib/python3.6/dist-packages (1.7.0.post1)\n",
            "Requirement already satisfied: graphviz<0.9.0,>=0.8.1 in /usr/local/lib/python3.6/dist-packages (from mxnet) (0.8.4)\n",
            "Requirement already satisfied: numpy<2.0.0,>1.16.0 in /usr/local/lib/python3.6/dist-packages (from mxnet) (1.19.4)\n",
            "Requirement already satisfied: requests<3,>=2.20.0 in /usr/local/lib/python3.6/dist-packages (from mxnet) (2.23.0)\n",
            "Requirement already satisfied: chardet<4,>=3.0.2 in /usr/local/lib/python3.6/dist-packages (from requests<3,>=2.20.0->mxnet) (3.0.4)\n",
            "Requirement already satisfied: certifi>=2017.4.17 in /usr/local/lib/python3.6/dist-packages (from requests<3,>=2.20.0->mxnet) (2020.12.5)\n",
            "Requirement already satisfied: idna<3,>=2.5 in /usr/local/lib/python3.6/dist-packages (from requests<3,>=2.20.0->mxnet) (2.10)\n",
            "Requirement already satisfied: urllib3!=1.25.0,!=1.25.1,<1.26,>=1.21.1 in /usr/local/lib/python3.6/dist-packages (from requests<3,>=2.20.0->mxnet) (1.24.3)\n",
            "Requirement already satisfied: mxnet-cu101 in /usr/local/lib/python3.6/dist-packages (1.7.0)\n",
            "Requirement already satisfied: graphviz<0.9.0,>=0.8.1 in /usr/local/lib/python3.6/dist-packages (from mxnet-cu101) (0.8.4)\n",
            "Requirement already satisfied: numpy<2.0.0,>1.16.0 in /usr/local/lib/python3.6/dist-packages (from mxnet-cu101) (1.19.4)\n",
            "Requirement already satisfied: requests<3,>=2.20.0 in /usr/local/lib/python3.6/dist-packages (from mxnet-cu101) (2.23.0)\n",
            "Requirement already satisfied: chardet<4,>=3.0.2 in /usr/local/lib/python3.6/dist-packages (from requests<3,>=2.20.0->mxnet-cu101) (3.0.4)\n",
            "Requirement already satisfied: idna<3,>=2.5 in /usr/local/lib/python3.6/dist-packages (from requests<3,>=2.20.0->mxnet-cu101) (2.10)\n",
            "Requirement already satisfied: certifi>=2017.4.17 in /usr/local/lib/python3.6/dist-packages (from requests<3,>=2.20.0->mxnet-cu101) (2020.12.5)\n",
            "Requirement already satisfied: urllib3!=1.25.0,!=1.25.1,<1.26,>=1.21.1 in /usr/local/lib/python3.6/dist-packages (from requests<3,>=2.20.0->mxnet-cu101) (1.24.3)\n"
          ],
          "name": "stdout"
        }
      ]
    },
    {
      "cell_type": "code",
      "metadata": {
        "colab": {
          "base_uri": "https://localhost:8080/"
        },
        "id": "JpxQBauPzllj",
        "outputId": "bb3ec14d-9319-4802-807f-1b67d2566ae2"
      },
      "source": [
        "from google.colab import drive\n",
        "drive.mount('/content/drive')\n",
        "\n",
        "!cp '/content/drive/MyDrive/Bachelor Thesis/HYPER/data_sub1_4096.dat' '/content/'\n",
        "!cp '/content/drive/MyDrive/Bachelor Thesis/HYPER/pggan_weights' '/content/'\n",
        "!cp '/content/drive/MyDrive/Bachelor Thesis/HYPER/ridge_model' '/content/'"
      ],
      "execution_count": 2,
      "outputs": [
        {
          "output_type": "stream",
          "text": [
            "Drive already mounted at /content/drive; to attempt to forcibly remount, call drive.mount(\"/content/drive\", force_remount=True).\n"
          ],
          "name": "stdout"
        }
      ]
    },
    {
      "cell_type": "code",
      "metadata": {
        "id": "8VNf_k6-_l1q"
      },
      "source": [
        "def load_weights(net, gain):\n",
        "    with open('pggan_weights', 'rb') as f:\n",
        "        wb = pickle.load(f)\n",
        "    weights = []\n",
        "    biases = []\n",
        "    for i in range(0, 53, 2):\n",
        "        weights.append(wb[i])\n",
        "        biases.append(wb[i+1])\n",
        "\n",
        "    names_biases = []\n",
        "    for i in range(27):\n",
        "        names_biases.append(\"net0_apply_bias\"+str(i)+\"_b\")\n",
        "    \n",
        "    names_weights = []\n",
        "    names_weights.append(\"net0_dense0_weight\")\n",
        "    for i in range(26):\n",
        "        names_weights.append(\"net0_conv\"+str(i)+\"_weight\")\n",
        "\n",
        "    for i in range(0, len(weights)-1, 3):\n",
        "        weights[i] = nd.transpose(nd.array(weights[i]))\n",
        "        weights[i+1] = nd.transpose(nd.array(weights[i+1]))\n",
        "        weights[i+2] = nd.transpose(nd.array(weights[i+2]))\n",
        "        \n",
        "        if i == 0:\n",
        "            # The first dense layer has its gain divided by 4\n",
        "            std = (gain / 4) / np.sqrt(weights[i].shape[1])\n",
        "        else:\n",
        "            std = gain / np.sqrt(np.prod([weights[i].shape[1], weights[i].shape[2], weights[i].shape[3]]))\n",
        "        weights[i] = weights[i] * std\n",
        "\n",
        "        std = gain / np.sqrt(np.prod([weights[i+1].shape[1], weights[i+1].shape[2], weights[i+1].shape[3]]))\n",
        "        weights[i+1] = weights[i+1] * std\n",
        "\n",
        "        # The gain for each toRGB layer is 1\n",
        "        std = 1 / np.sqrt(np.prod([weights[i+2].shape[1], weights[i+2].shape[2], weights[i+2].shape[3]]))\n",
        "        weights[i+2] = weights[i+2] * std\n",
        "\n",
        "        net.collect_params()[names_weights[i]].set_data(weights[i])\n",
        "        net.collect_params()[names_weights[i+1]].set_data(weights[i+1])\n",
        "        net.collect_params()[names_weights[i+2]].set_data(weights[i+2])\n",
        "        \n",
        "        net.collect_params()[names_biases[i]].set_data(nd.array(biases[i]))\n",
        "        net.collect_params()[names_biases[i+1]].set_data(nd.array(biases[i+1]))\n",
        "        net.collect_params()[names_biases[i+2]].set_data(nd.array(biases[i+2]))\n",
        "\n",
        "    return net\n",
        "\n",
        "def face_from_latent(net, latents, path):\n",
        "    outputs = []\n",
        "    for i in range(latents.shape[0]):\n",
        "        latent = nd.expand_dims(latents[i], 0)\n",
        "        output = net(latent)\n",
        "        outputs.append(output)\n",
        "        # face = np.clip(np.rint((face.asnumpy() + 1.0) / 2.0 * 255.0), 0.0, 255.0).astype('uint8')\n",
        "        # face = face.transpose((0, 3, 2, 1))\n",
        "\n",
        "        # if not os.path.exists(path):\n",
        "        #     os.mkdir(path)\n",
        "        # save_path = os.path.join(path, '%d.png' % i)\n",
        "        # Image.fromarray(face[0], 'RGB').save(save_path)\n",
        "\n",
        "        # img = mpimg.imread(save_path)\n",
        "        # plt.axis('off')\n",
        "        # plt.imshow(img)\n",
        "        # plt.show()\n",
        "    \n",
        "    return outputs\n",
        "\n",
        "def get_latents(latentAmount, inputShape):\n",
        "    latents = np.random.RandomState(2000).randn(latentAmount, inputShape)\n",
        "    # selection = np.random.choice(1000, 10)\n",
        "    # print(\"Selected latent vectors: \", selection)\n",
        "    # latents = latents[selection]\n",
        "    return latents"
      ],
      "execution_count": 3,
      "outputs": []
    },
    {
      "cell_type": "code",
      "metadata": {
        "id": "pw9UA7LhTXUl"
      },
      "source": [
        "class apply_bias(gluon.HybridBlock):\n",
        "    def __init__(self, shape):\n",
        "        super(apply_bias, self).__init__()\n",
        "        self.shape = shape\n",
        "        with self.name_scope():\n",
        "            self.b = self.params.get(\"b\", init=init.Zero(), shape=shape)\n",
        "\n",
        "    def hybrid_forward(self, F, x, b, *args, **kwargs):\n",
        "        return F.broadcast_add(x, b.reshape([1, x.shape[1], 1, 1]))\n",
        "\n",
        "class Net(gluon.HybridBlock):\n",
        "    def __init__(self, **kwargs):\n",
        "        super(Net, self).__init__(**kwargs)\n",
        "        with self.name_scope():\n",
        "\n",
        "            # self.lod_in = mx.sym.Variable(\"lod\", init='np.float32')\n",
        "            self.lod_in = np.float32(0.0)\n",
        "\n",
        "            # Leaky ReLU Activation\n",
        "            self.lrelu = nn.LeakyReLU(alpha=0.2)\n",
        "\n",
        "            # Block 1\n",
        "            self.dense = nn.Dense(units=8192, use_bias=False)\n",
        "            self.bias1a = apply_bias((512,))\n",
        "            self.conv1 = nn.Conv2D(channels=512, kernel_size=3, padding=(1,1), layout='NCHW', use_bias=False)\n",
        "            self.bias1b = apply_bias((512,))\n",
        "            # to RGB\n",
        "            self.torgb1 = nn.Conv2D(in_channels=512, channels=3, kernel_size=1, layout='NCHW', use_bias=False)\n",
        "            self.biasrgb1 = apply_bias((3,))\n",
        "\n",
        "            # Block 2\n",
        "            self.conv2a = nn.Conv2D(channels=512, kernel_size=3, padding=(1,1), layout='NCHW', use_bias=False)\n",
        "            self.bias2a = apply_bias((512,))\n",
        "            self.conv2b = nn.Conv2D(channels=512, kernel_size=3, padding=(1,1), layout='NCHW', use_bias=False)\n",
        "            self.bias2b = apply_bias((512,))\n",
        "\n",
        "            self.torgb2 = nn.Conv2D(in_channels=512, channels=3, kernel_size=1, layout='NCHW', use_bias=False)\n",
        "            self.biasrgb2 = apply_bias((3,))\n",
        "\n",
        "            # Block 3\n",
        "            self.conv3a = nn.Conv2D(channels=512, kernel_size=3, padding=(1,1), layout='NCHW', use_bias=False)\n",
        "            self.bias3a = apply_bias((512,))\n",
        "            self.conv3b = nn.Conv2D(channels=512, kernel_size=3, padding=(1,1), layout='NCHW', use_bias=False)\n",
        "            self.bias3b = apply_bias((512,))\n",
        "\n",
        "            self.torgb3 = nn.Conv2D(in_channels=512, channels=3, kernel_size=1, layout='NCHW', use_bias=False)\n",
        "            self.biasrgb3 = apply_bias((3,))\n",
        "\n",
        "            # Block 4\n",
        "            self.conv4a = nn.Conv2D(channels=512, kernel_size=3, padding=(1,1), layout='NCHW', use_bias=False)\n",
        "            self.bias4a = apply_bias((512,))\n",
        "            self.conv4b = nn.Conv2D(channels=512, kernel_size=3, padding=(1,1), layout='NCHW', use_bias=False)\n",
        "            self.bias4b = apply_bias((512,))\n",
        "\n",
        "            self.torgb4 = nn.Conv2D(in_channels=512, channels=3, kernel_size=1, layout='NCHW', use_bias=False)\n",
        "            self.biasrgb4 = apply_bias((3,))\n",
        "\n",
        "            # Block 5\n",
        "            self.conv5a = nn.Conv2D(channels=256, kernel_size=3, padding=(1,1), layout='NCHW', use_bias=False)\n",
        "            self.bias5a = apply_bias((256,))\n",
        "            self.conv5b = nn.Conv2D(in_channels=256, channels=256, kernel_size=3, padding=(1,1), layout='NCHW', use_bias=False)\n",
        "            self.bias5b = apply_bias((256,))\n",
        "\n",
        "            self.torgb5 = nn.Conv2D(in_channels=256, channels=3, kernel_size=1, layout='NCHW', use_bias=False)\n",
        "            self.biasrgb5 = apply_bias((3,))\n",
        "\n",
        "            # Block 6\n",
        "            self.conv6a = nn.Conv2D(channels=128, kernel_size=3, padding=(1,1), layout='NCHW', use_bias=False)\n",
        "            self.bias6a = apply_bias((128,))\n",
        "            self.conv6b = nn.Conv2D(in_channels=128, channels=128, kernel_size=3, padding=(1,1), layout='NCHW', use_bias=False)\n",
        "            self.bias6b = apply_bias((128,))\n",
        "\n",
        "            self.torgb6 = nn.Conv2D(in_channels=128, channels=3, kernel_size=1, layout='NCHW', use_bias=False)\n",
        "            self.biasrgb6 = apply_bias((3,))\n",
        "\n",
        "            # Block 7\n",
        "            self.conv7a = nn.Conv2D(channels=64, kernel_size=3, padding=(1,1), layout='NCHW', use_bias=False)\n",
        "            self.bias7a = apply_bias((64,))\n",
        "            self.conv7b = nn.Conv2D(in_channels=64, channels=64, kernel_size=3, padding=(1,1), layout='NCHW', use_bias=False)\n",
        "            self.bias7b = apply_bias((64,))\n",
        "\n",
        "            self.torgb7 = nn.Conv2D(in_channels=64, channels=3, kernel_size=1, layout='NCHW', use_bias=False)\n",
        "            self.biasrgb7 = apply_bias((3,))\n",
        "\n",
        "            # Block 8\n",
        "            self.conv8a = nn.Conv2D(channels=32, kernel_size=3, padding=(1,1), layout='NCHW', use_bias=False)\n",
        "            self.bias8a = apply_bias((32,))\n",
        "            self.conv8b = nn.Conv2D(in_channels=32, channels=32, kernel_size=3, padding=(1,1), layout='NCHW', use_bias=False)\n",
        "            self.bias8b = apply_bias((32,))\n",
        "\n",
        "            self.torgb8 = nn.Conv2D(in_channels=32, channels=3, kernel_size=1, layout='NCHW', use_bias=False)\n",
        "            self.biasrgb8 = apply_bias((3,))\n",
        "\n",
        "            # Block 9\n",
        "            self.conv9a = nn.Conv2D(channels=16, kernel_size=3, padding=(1,1), layout='NCHW', use_bias=False)\n",
        "            self.bias9a = apply_bias((16,))\n",
        "            self.conv9b = nn.Conv2D(in_channels=16, channels=16, kernel_size=3, padding=(1,1), layout='NCHW', use_bias=False)\n",
        "            self.bias9b = apply_bias((16,))\n",
        "\n",
        "            self.torgb9 = nn.Conv2D(in_channels=16, channels=3, kernel_size=1, layout='NCHW', use_bias=False)\n",
        "            self.biasrgb9 = apply_bias((3,))\n",
        "\n",
        "    def pixel_norm(self, x, epsilon=1e-8):\n",
        "        return x * nd.rsqrt(nd.mean(nd.square(x), axis=1, keepdims=True) + epsilon)\n",
        "\n",
        "    def upscale_2d(self, x, factor=2):\n",
        "        s = x.shape\n",
        "        x = nd.reshape(x, [-1, s[1], s[2], 1, s[3], 1])\n",
        "        x = nd.tile(x, [1, 1, 1, factor, 1, factor])\n",
        "        x = nd.reshape(x, [-1, s[1], s[2] * factor, s[3] * factor])\n",
        "        return x\n",
        "\n",
        "    def lerp_clip(self, a, b, t): \n",
        "        return a + (b - a) * nd.clip(nd.array(t), 0.0, 1.0)\n",
        "\n",
        "    def hybrid_forward(self, F, x):\n",
        "        # Block 1                                        \n",
        "        x = self.dense(self.pixel_norm(x))                              #184\n",
        "        x = x.reshape([-1, 512, 4, 4])                                  #185\n",
        "        x = self.pixel_norm(self.lrelu(self.bias1a(x)))                 #186\n",
        "        x = self.pixel_norm(self.lrelu(self.bias1b(self.conv1(x))))     #188\n",
        "\n",
        "        # Block 2\n",
        "        x = self.upscale_2d(x)                                          #194\n",
        "        x = self.pixel_norm(self.lrelu(self.bias2a(self.conv2a(x))))    #196\n",
        "        x = self.pixel_norm(self.lrelu(self.bias2b(self.conv2b(x))))    #198\n",
        "\n",
        "        # Block 3\n",
        "        x = self.upscale_2d(x)                                          #194\n",
        "        x = self.pixel_norm(self.lrelu(self.bias3a(self.conv3a(x))))    #196\n",
        "        x = self.pixel_norm(self.lrelu(self.bias3b(self.conv3b(x))))    #198\n",
        "        return x\n",
        "\n",
        "        # # Block 4\n",
        "        # x = self.upscale_2d(x)                                          #194\n",
        "        # x = self.pixel_norm(self.lrelu(self.bias4a(self.conv4a(x))))    #196\n",
        "        # x = self.pixel_norm(self.lrelu(self.bias4b(self.conv4b(x))))    #198\n",
        "\n",
        "        # # Block 5\n",
        "        # x = self.upscale_2d(x)                                          #194\n",
        "        # x = self.pixel_norm(self.lrelu(self.bias5a(self.conv5a(x))))    #196\n",
        "        # x = self.pixel_norm(self.lrelu(self.bias5b(self.conv5b(x))))    #198\n",
        "\n",
        "        # # Block 6\n",
        "        # x = self.upscale_2d(x)                                          #194\n",
        "        # x = self.pixel_norm(self.lrelu(self.bias6a(self.conv6a(x))))    #196\n",
        "        # x = self.pixel_norm(self.lrelu(self.bias6b(self.conv6b(x))))    #198\n",
        "\n",
        "        # # Block 7\n",
        "        # x = self.upscale_2d(x)                                          #194\n",
        "        # x = self.pixel_norm(self.lrelu(self.bias7a(self.conv7a(x))))    #196\n",
        "        # x = self.pixel_norm(self.lrelu(self.bias7b(self.conv7b(x))))    #198\n",
        "\n",
        "        # # Block 8\n",
        "        # x = self.upscale_2d(x)                                          #194\n",
        "        # x = self.pixel_norm(self.lrelu(self.bias8a(self.conv8a(x))))    #196\n",
        "        # x = self.pixel_norm(self.lrelu(self.bias8b(self.conv8b(x))))    #198\n",
        "\n",
        "        # # Block 9\n",
        "        # x = self.upscale_2d(x)                                          #194\n",
        "        # x = self.pixel_norm(self.lrelu(self.bias9a(self.conv9a(x))))    #196\n",
        "        # x = self.pixel_norm(self.lrelu(self.bias9b(self.conv9b(x))))    #198\n",
        "        # # to RGB\n",
        "        # x = self.biasrgb9(self.torgb9(x))                               #212\n",
        "\n",
        "        # return x"
      ],
      "execution_count": 4,
      "outputs": []
    },
    {
      "cell_type": "code",
      "metadata": {
        "id": "B1pz3fJnstIg"
      },
      "source": [
        "# Define and initialise the network\n",
        "net = Net()\n",
        "net.initialize(ctx=gpu(0))"
      ],
      "execution_count": 5,
      "outputs": []
    },
    {
      "cell_type": "code",
      "metadata": {
        "id": "J0eLU5dMisd7"
      },
      "source": [
        "# Get latents from test data stimuli\n",
        "with open('data_sub1_4096.dat', 'rb') as fp:\n",
        "    X_train, T_train, X_test, T_test = pickle.load(fp) "
      ],
      "execution_count": 6,
      "outputs": []
    },
    {
      "cell_type": "code",
      "metadata": {
        "id": "uU0V1BXgqOvk"
      },
      "source": [
        "# Define latents as stimuli data\n",
        "# latents = get_latents(2000, 512)\n",
        "# inputs = nd.array(latents, ctx=gpu(0))\n",
        "inputs = nd.array(T_train, ctx=gpu(0))\n",
        "\n",
        "# Perform one forward pass to initialise all weights\n",
        "net.forward(nd.expand_dims(inputs[0], 0))\n",
        "\n",
        "# Load in the weight and bias parameters from the pre-trained model\n",
        "gain = np.sqrt(2)\n",
        "net = load_weights(net, gain) \n",
        "\n",
        "# Run the model on the latent values\n",
        "outputs = face_from_latent(net, inputs, '/content/faces_mxnet/')"
      ],
      "execution_count": 7,
      "outputs": []
    },
    {
      "cell_type": "code",
      "metadata": {
        "colab": {
          "base_uri": "https://localhost:8080/"
        },
        "id": "oTvxREcCo25T",
        "outputId": "c70c51f3-e72f-4bbd-e3e1-92a8d2f8ed75"
      },
      "source": [
        "print(len(outputs))\r\n",
        "print(outputs[0].shape)"
      ],
      "execution_count": 8,
      "outputs": [
        {
          "output_type": "stream",
          "text": [
            "1050\n",
            "(1, 512, 16, 16)\n"
          ],
          "name": "stdout"
        }
      ]
    },
    {
      "cell_type": "code",
      "metadata": {
        "id": "Ho4qGBzoFDzM"
      },
      "source": [
        "training = outputs\r\n",
        "targets = X_train\r\n",
        "for i in range(len(training)):\r\n",
        "    training[i] = training[i].asnumpy().flatten()"
      ],
      "execution_count": 9,
      "outputs": []
    },
    {
      "cell_type": "code",
      "metadata": {
        "colab": {
          "base_uri": "https://localhost:8080/"
        },
        "id": "upeirUsho3Sp",
        "outputId": "18efb493-229c-4bcf-c67c-cbb43b15ccdc"
      },
      "source": [
        "print(len(training))\r\n",
        "print(len(targets))\r\n",
        "\r\n",
        "print(training[0].shape)\r\n",
        "print(targets[0].shape)"
      ],
      "execution_count": 10,
      "outputs": [
        {
          "output_type": "stream",
          "text": [
            "1050\n",
            "1050\n",
            "(131072,)\n",
            "(4096,)\n"
          ],
          "name": "stdout"
        }
      ]
    },
    {
      "cell_type": "code",
      "metadata": {
        "id": "fPjuCzUWbh_E"
      },
      "source": [
        "linModel = Ridge()\r\n",
        "linModel.fit(training, targets)"
      ],
      "execution_count": null,
      "outputs": []
    },
    {
      "cell_type": "code",
      "metadata": {
        "id": "qAHUc2bSFGif"
      },
      "source": [
        "inputs = nd.array(T_test, ctx=gpu(0))\r\n",
        "\r\n",
        "outputs = face_from_latent(net, inputs, '/content/faces_mxnet/')"
      ],
      "execution_count": null,
      "outputs": []
    },
    {
      "cell_type": "code",
      "metadata": {
        "id": "HWAar4Tshoiq"
      },
      "source": [
        "training = outputs\r\n",
        "targets = X_test\r\n",
        "for i in range(len(training)):\r\n",
        "    training[i] = training[i].asnumpy().flatten()"
      ],
      "execution_count": null,
      "outputs": []
    },
    {
      "cell_type": "code",
      "metadata": {
        "id": "KIEIZ7mvhsZk"
      },
      "source": [
        "linModel.score(training, targets)"
      ],
      "execution_count": null,
      "outputs": []
    },
    {
      "cell_type": "code",
      "metadata": {
        "id": "APEenHcAFSeO"
      },
      "source": [
        "voxel_weights = linModel.coef_\r\n",
        "voxel_weights = np.reshape(voxel_weights, (-1,512,4,4))"
      ],
      "execution_count": 11,
      "outputs": []
    },
    {
      "cell_type": "code",
      "metadata": {
        "colab": {
          "base_uri": "https://localhost:8080/"
        },
        "id": "16hbOoOaXVUV",
        "outputId": "194406e2-8eda-4753-907b-91727c6b6264"
      },
      "source": [
        "average_voxel_weights = []\r\n",
        "for i in voxel_weights:\r\n",
        "    average_voxel_weights.append(np.mean(i, axis=0))\r\n",
        "average_voxel_weights[0].shape"
      ],
      "execution_count": 12,
      "outputs": [
        {
          "output_type": "execute_result",
          "data": {
            "text/plain": [
              "(4, 4)"
            ]
          },
          "metadata": {
            "tags": []
          },
          "execution_count": 12
        }
      ]
    },
    {
      "cell_type": "code",
      "metadata": {
        "id": "UDA1DGpnP0i7"
      },
      "source": [
        "# with open('ridge_model', 'wb') as f:\r\n",
        "#     pickle.dump(linModel, f)\r\n",
        "# !cp '/content/ridge_model' '/content/drive/MyDrive/Bachelor Thesis/HYPER/ridge_model'"
      ],
      "execution_count": 13,
      "outputs": []
    }
  ]
}